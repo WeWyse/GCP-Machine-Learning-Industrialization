{
 "cells": [
  {
   "cell_type": "markdown",
   "metadata": {},
   "source": [
    "## Imports"
   ]
  },
  {
   "cell_type": "code",
   "execution_count": 19,
   "metadata": {
    "collapsed": true
   },
   "outputs": [],
   "source": [
    "from google.cloud import bigquery\n",
    "import pandas as pd"
   ]
  },
  {
   "cell_type": "code",
   "execution_count": 6,
   "metadata": {
    "collapsed": true
   },
   "outputs": [],
   "source": [
    "import plotly.plotly as py\n",
    "import plotly.tools as tools\n",
    "import plotly.figure_factory as ff\n",
    "import plotly.graph_objs as go"
   ]
  },
  {
   "cell_type": "markdown",
   "metadata": {},
   "source": [
    "## Config"
   ]
  },
  {
   "cell_type": "code",
   "execution_count": null,
   "metadata": {
    "collapsed": true
   },
   "outputs": [],
   "source": [
    "project= 'YOUR_PROJECT'\n",
    "dataset = 'YOUR_DATASET'\n",
    "table = 'YOUR_TABLE'"
   ]
  },
  {
   "cell_type": "code",
   "execution_count": 3,
   "metadata": {
    "collapsed": true
   },
   "outputs": [],
   "source": [
    "client = bigquery.Client(project=project)"
   ]
  },
  {
   "cell_type": "code",
   "execution_count": null,
   "metadata": {
    "collapsed": true
   },
   "outputs": [],
   "source": [
    "tools.set_credentials_file(username='USERNAME', api_key='APIKEY')"
   ]
  },
  {
   "cell_type": "markdown",
   "metadata": {},
   "source": [
    "## Get data"
   ]
  },
  {
   "cell_type": "code",
   "execution_count": 130,
   "metadata": {
    "collapsed": true
   },
   "outputs": [],
   "source": [
    "query=\"\"\"\n",
    "SELECT\n",
    "  CAST(ROUND(AVG(sentiment_norm),4) AS STRING) as avg_sentiment,\n",
    "  count(*) as number_posts,\n",
    "  posted_at\n",
    "FROM(\n",
    "  SELECT \n",
    "  DISTINCT\n",
    "  text, \n",
    "  id,\n",
    "  sentiment,\n",
    "  (sentiment-mean_sentiment) / std_sentiment as sentiment_norm,\n",
    "  TIMESTAMP_TRUNC(posted_at, MINUTE) as posted_at\n",
    "FROM `{project}.{dataset}.{table}` \n",
    "LEFT JOIN (SELECT AVG(sentiment) as mean_sentiment, stddev(sentiment) as std_sentiment FROM `{project}.{dataset}.{table}`) ON True\n",
    "WHERE TIMESTAMP_TRUNC(posted_at, HOUR) IN (\n",
    "  CAST(\"2019-05-20 02:00:00 UTC\" AS TIMESTAMP),\n",
    "  CAST(\"2019-05-20 03:00:00 UTC\" AS TIMESTAMP),\n",
    "  CAST(\"2019-05-20 04:00:00 UTC\" AS TIMESTAMP),\n",
    "  CAST(\"2019-05-20 05:00:00 UTC\" AS TIMESTAMP))) \n",
    "GROUP BY posted_at\n",
    "ORDER BY posted_at ASC\n",
    "\"\"\""
   ]
  },
  {
   "cell_type": "code",
   "execution_count": 131,
   "metadata": {
    "collapsed": false
   },
   "outputs": [],
   "source": [
    "df_data = client.query(query).result().to_dataframe()"
   ]
  },
  {
   "cell_type": "code",
   "execution_count": 132,
   "metadata": {
    "collapsed": false
   },
   "outputs": [
    {
     "data": {
      "text/html": [
       "<div>\n",
       "<style scoped>\n",
       "    .dataframe tbody tr th:only-of-type {\n",
       "        vertical-align: middle;\n",
       "    }\n",
       "\n",
       "    .dataframe tbody tr th {\n",
       "        vertical-align: top;\n",
       "    }\n",
       "\n",
       "    .dataframe thead th {\n",
       "        text-align: right;\n",
       "    }\n",
       "</style>\n",
       "<table border=\"1\" class=\"dataframe\">\n",
       "  <thead>\n",
       "    <tr style=\"text-align: right;\">\n",
       "      <th></th>\n",
       "      <th>avg_sentiment</th>\n",
       "      <th>number_posts</th>\n",
       "      <th>posted_at</th>\n",
       "    </tr>\n",
       "  </thead>\n",
       "  <tbody>\n",
       "    <tr>\n",
       "      <th>0</th>\n",
       "      <td>-0.2402</td>\n",
       "      <td>1792</td>\n",
       "      <td>2019-05-20 02:00:00+00:00</td>\n",
       "    </tr>\n",
       "    <tr>\n",
       "      <th>1</th>\n",
       "      <td>-0.2352</td>\n",
       "      <td>1758</td>\n",
       "      <td>2019-05-20 02:01:00+00:00</td>\n",
       "    </tr>\n",
       "    <tr>\n",
       "      <th>2</th>\n",
       "      <td>-0.2542</td>\n",
       "      <td>1661</td>\n",
       "      <td>2019-05-20 02:02:00+00:00</td>\n",
       "    </tr>\n",
       "    <tr>\n",
       "      <th>3</th>\n",
       "      <td>-0.2678</td>\n",
       "      <td>1764</td>\n",
       "      <td>2019-05-20 02:03:00+00:00</td>\n",
       "    </tr>\n",
       "    <tr>\n",
       "      <th>4</th>\n",
       "      <td>-0.1698</td>\n",
       "      <td>1695</td>\n",
       "      <td>2019-05-20 02:04:00+00:00</td>\n",
       "    </tr>\n",
       "  </tbody>\n",
       "</table>\n",
       "</div>"
      ],
      "text/plain": [
       "  avg_sentiment  number_posts                 posted_at\n",
       "0       -0.2402          1792 2019-05-20 02:00:00+00:00\n",
       "1       -0.2352          1758 2019-05-20 02:01:00+00:00\n",
       "2       -0.2542          1661 2019-05-20 02:02:00+00:00\n",
       "3       -0.2678          1764 2019-05-20 02:03:00+00:00\n",
       "4       -0.1698          1695 2019-05-20 02:04:00+00:00"
      ]
     },
     "execution_count": 132,
     "metadata": {},
     "output_type": "execute_result"
    }
   ],
   "source": [
    "df_data.head()"
   ]
  },
  {
   "cell_type": "markdown",
   "metadata": {},
   "source": [
    "## Calculate the moving mean sentiment"
   ]
  },
  {
   "cell_type": "code",
   "execution_count": 133,
   "metadata": {
    "collapsed": false
   },
   "outputs": [],
   "source": [
    "df_data[\"moving_mean\"] = df_data.avg_sentiment.rolling(window =5).mean()"
   ]
  },
  {
   "cell_type": "code",
   "execution_count": 134,
   "metadata": {
    "collapsed": true
   },
   "outputs": [],
   "source": [
    "df_data.moving_mean = df_data.moving_mean.combine_first(df_data.avg_sentiment)"
   ]
  },
  {
   "cell_type": "markdown",
   "metadata": {},
   "source": [
    "## Plot"
   ]
  },
  {
   "cell_type": "code",
   "execution_count": 144,
   "metadata": {
    "collapsed": false
   },
   "outputs": [],
   "source": [
    "traces = []\n",
    "\n",
    "traces.append(go.Scatter(\n",
    "            x=df_data.posted_at,\n",
    "            y=df_data.moving_mean,\n",
    "            name=\"moving average\"\n",
    "        ))\n",
    "\n",
    "traces.append(go.Scatter(\n",
    "            x=df_data.posted_at,\n",
    "            y=df_data.avg_sentiment,\n",
    "            name=\"raw sentiment per minute\",\n",
    "            opacity=0.25\n",
    "        ))"
   ]
  },
  {
   "cell_type": "code",
   "execution_count": 151,
   "metadata": {
    "collapsed": false
   },
   "outputs": [],
   "source": [
    "layout = go.Layout(\n",
    "        title='Mean standardized sentiment over time',\n",
    "        xaxis=dict(\n",
    "            title='time',\n",
    "            titlefont=dict(\n",
    "                size=18,\n",
    "                color='#7f7f7f'\n",
    "            )\n",
    "        ),\n",
    "        yaxis=dict(\n",
    "            title='mean standardized sentiment',\n",
    "            titlefont=dict(\n",
    "                size=18,\n",
    "                color='#7f7f7f'\n",
    "            )\n",
    "        ),\n",
    "        annotations=[\n",
    "        dict(\n",
    "            x='2019-05-20 03:00:00',\n",
    "            y=float(df_data[df_data.posted_at=='2019-05-20 03:00:00'].moving_mean),\n",
    "            xref='x',\n",
    "            yref='y',\n",
    "            text='start of the episode',\n",
    "            showarrow=True,\n",
    "            arrowhead=7,\n",
    "            ax=0,\n",
    "            ay=-40\n",
    "        ),\n",
    "        dict(\n",
    "            x='2019-05-20 03:18:00',\n",
    "            y=float(df_data[df_data.posted_at=='2019-05-20 03:18:00'].moving_mean),\n",
    "            xref='x',\n",
    "            yref='y',\n",
    "            text='tyrion defies dany',\n",
    "            showarrow=True,\n",
    "            arrowhead=7,\n",
    "            ax=0,\n",
    "            ay=50\n",
    "        ),\n",
    "        dict(\n",
    "            x='2019-05-20 03:24:00',\n",
    "            y=float(df_data[df_data.posted_at=='2019-05-20 03:24:00'].moving_mean),\n",
    "            xref='x',\n",
    "            yref='y',\n",
    "            text='tyrion speaks to jon',\n",
    "            showarrow=True,\n",
    "            arrowhead=7,\n",
    "            ax=0,\n",
    "            ay=-40\n",
    "        ),\n",
    "        dict(\n",
    "            x='2019-05-20 03:50:00',\n",
    "            y=float(df_data[df_data.posted_at=='2019-05-20 03:50:00'].moving_mean),\n",
    "            xref='x',\n",
    "            yref='y',\n",
    "            text='bran is named king',\n",
    "            showarrow=True,\n",
    "            arrowhead=7,\n",
    "            ax=0,\n",
    "            ay=-40\n",
    "        ),\n",
    "        dict(\n",
    "            x='2019-05-20 03:36:00',\n",
    "            y=float(df_data[df_data.posted_at=='2019-05-20 03:36:00'].moving_mean),\n",
    "            xref='x',\n",
    "            yref='y',\n",
    "            text='jon stabs dany',\n",
    "            showarrow=True,\n",
    "            arrowhead=7,\n",
    "            ax=0,\n",
    "            ay=90\n",
    "        ),\n",
    "        dict(\n",
    "            x='2019-05-20 04:05:00',\n",
    "            y=float(df_data[df_data.posted_at=='2019-05-20 04:05:00'].moving_mean),\n",
    "            xref='x',\n",
    "            yref='y',\n",
    "            text='ser brienne writes about ser jaime',\n",
    "            showarrow=True,\n",
    "            arrowhead=7,\n",
    "            ax=0,\n",
    "            ay=120\n",
    "        ),\n",
    "        dict(\n",
    "            x='2019-05-20 04:18:00',\n",
    "            y=float(df_data[df_data.posted_at=='2019-05-20 04:18:00'].moving_mean),\n",
    "            xref='x',\n",
    "            yref='y',\n",
    "            text='end of the episode',\n",
    "            showarrow=True,\n",
    "            arrowhead=7,\n",
    "            ax=0,\n",
    "            ay=-60\n",
    "        )\n",
    "        ]\n",
    "    )\n"
   ]
  },
  {
   "cell_type": "code",
   "execution_count": 152,
   "metadata": {
    "collapsed": false
   },
   "outputs": [
    {
     "data": {
      "text/html": [
       "<iframe id=\"igraph\" scrolling=\"no\" style=\"border:none;\" seamless=\"seamless\" src=\"https://plot.ly/~thomasdehaene/4.embed\" height=\"525px\" width=\"100%\"></iframe>"
      ],
      "text/plain": [
       "<plotly.tools.PlotlyDisplay object>"
      ]
     },
     "execution_count": 152,
     "metadata": {},
     "output_type": "execute_result"
    }
   ],
   "source": [
    "fig = go.Figure(data=traces, layout=layout)\n",
    "py.iplot(fig, filename='td_medium_twitter_sentiment_ma')"
   ]
  }
 ],
 "metadata": {
  "kernelspec": {
   "display_name": "Python 3",
   "language": "python",
   "name": "python3"
  },
  "language_info": {
   "codemirror_mode": {
    "name": "ipython",
    "version": 3
   },
   "file_extension": ".py",
   "mimetype": "text/x-python",
   "name": "python",
   "nbconvert_exporter": "python",
   "pygments_lexer": "ipython3",
   "version": "3.6.8"
  }
 },
 "nbformat": 4,
 "nbformat_minor": 2
}
